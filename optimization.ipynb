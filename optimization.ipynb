{
 "cells": [
  {
   "cell_type": "code",
   "execution_count": 2,
   "metadata": {},
   "outputs": [
    {
     "name": "stdout",
     "output_type": "stream",
     "text": [
      "status: optimal\n",
      "objective value: 666.0\n",
      "----------\n",
      "x1 = 29.0\n",
      "x2 = 46.0\n",
      "x3 = 25.0\n",
      "{'GUROBI': False, 'GLPK': True, 'MOSEK': True, 'CPLEX': False, 'SCIPY': True}\n"
     ]
    }
   ],
   "source": [
    "from __future__ import print_function\n",
    "from optlang import Model, Variable, Constraint, Objective\n",
    "import optlang\n",
    "# All the (symbolic) variables are declared, with a name and optionally a lower and/or upper bound.\n",
    "x1 = Variable('x1', lb=0, type=\"integer\")\n",
    "x2 = Variable('x2', lb=0)\n",
    "x3 = Variable('x3', lb=0)\n",
    "\n",
    "\n",
    "s = \"10 * x1 + 4 * x2 + 5 * x3\"\n",
    "# A constraint is constructed from an expression of variables and a lower and/or upper bound (lb and ub).\n",
    "c1 = Constraint(x1 + x2 + x3, ub=100)\n",
    "c2 = Constraint(eval(s), ub=600)\n",
    "c3 = Constraint(2 * x1 + 2 * x2 + 6 * x3, lb=300)\n",
    "\n",
    "# An objective can be formulated\n",
    "obj = Objective(10 * x1 + 6 * x2 + 4 * x3, direction='max')\n",
    "\n",
    "# Variables, constraints and objective are combined in a Model object, which can subsequently be optimized.\n",
    "model = Model(name='Simple model')\n",
    "model.objective = obj\n",
    "model.add([c1, c2, c3])\n",
    "\n",
    "status = model.optimize()\n",
    "\n",
    "print(\"status:\", model.status)\n",
    "print(\"objective value:\", model.objective.value)\n",
    "print(\"----------\")\n",
    "for var_name, var in model.variables.iteritems():\n",
    "    print(var_name, \"=\", var.primal)\n",
    "\n",
    "\n",
    "print(optlang.list_available_solvers())"
   ]
  },
  {
   "cell_type": "code",
   "execution_count": null,
   "metadata": {},
   "outputs": [],
   "source": []
  }
 ],
 "metadata": {
  "kernelspec": {
   "display_name": "Python 3",
   "language": "python",
   "name": "python3"
  },
  "language_info": {
   "codemirror_mode": {
    "name": "ipython",
    "version": 3
   },
   "file_extension": ".py",
   "mimetype": "text/x-python",
   "name": "python",
   "nbconvert_exporter": "python",
   "pygments_lexer": "ipython3",
   "version": "3.6.4"
  }
 },
 "nbformat": 4,
 "nbformat_minor": 2
}
