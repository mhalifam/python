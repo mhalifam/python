{
 "cells": [
  {
   "cell_type": "markdown",
   "metadata": {},
   "source": [
    "# Cluster by total sum margin"
   ]
  },
  {
   "cell_type": "code",
   "execution_count": 1,
   "metadata": {},
   "outputs": [],
   "source": [
    "def clusterByTotalSum(myList, marginValue):\n",
    "\n",
    "    cumulativesum = marginValue\n",
    "    score1 = 0\n",
    "    S = []\n",
    "    sublist = []\n",
    "    for element in myList:\n",
    "        score1 = score1 + int(element)\n",
    "\n",
    "        if score1 < cumulativesum:\n",
    "            sublist.append(element)\n",
    "        elif score1 == cumulativesum:\n",
    "            sublist.append(element)\n",
    "            S.append(sublist)\n",
    "            sublist = []\n",
    "            score1 = 0\n",
    "        else:\n",
    "            sublist.append(element)\n",
    "            S.append(sublist)\n",
    "            sublist = []\n",
    "            score1 = 0\n",
    "\n",
    "    return S"
   ]
  },
  {
   "cell_type": "code",
   "execution_count": 3,
   "metadata": {},
   "outputs": [
    {
     "name": "stdout",
     "output_type": "stream",
     "text": [
      "[[1, 2, 3], [5], [6], [4], [3, 4], [2, 3], [1, 1, 6], [7], [2, 3]]\n"
     ]
    }
   ],
   "source": [
    "mylist = [1,2,3,5,6,4,3,4,2,3,1,1,6,7,2,3]\n",
    "print(clusterByTotalSum(mylist,4))"
   ]
  },
  {
   "cell_type": "code",
   "execution_count": 6,
   "metadata": {},
   "outputs": [
    {
     "name": "stdout",
     "output_type": "stream",
     "text": [
      "[]\n"
     ]
    }
   ],
   "source": [
    "mylist = [1,2]\n",
    "print(clusterByTotalSum(mylist,4))"
   ]
  },
  {
   "cell_type": "markdown",
   "metadata": {},
   "source": [
    "## return sublist index which contains an element "
   ]
  },
  {
   "cell_type": "code",
   "execution_count": 7,
   "metadata": {},
   "outputs": [],
   "source": [
    "def ClusterPosition(xlist, element):\n",
    "\n",
    "    for sublist in xlist:\n",
    "        if element in sublist:\n",
    "            break\n",
    "    xIndex = xlist.index(sublist)\n",
    "    return xIndex\n"
   ]
  },
  {
   "cell_type": "code",
   "execution_count": 8,
   "metadata": {},
   "outputs": [
    {
     "name": "stdout",
     "output_type": "stream",
     "text": [
      "2\n"
     ]
    }
   ],
   "source": [
    "xlist = [[1, 2, 3], [4], [5,6], [7,8,9,10]]\n",
    "print (ClusterPosition(xlist, 5))"
   ]
  },
  {
   "cell_type": "code",
   "execution_count": null,
   "metadata": {},
   "outputs": [],
   "source": []
  }
 ],
 "metadata": {
  "kernelspec": {
   "display_name": "Python 3",
   "language": "python",
   "name": "python3"
  },
  "language_info": {
   "codemirror_mode": {
    "name": "ipython",
    "version": 3
   },
   "file_extension": ".py",
   "mimetype": "text/x-python",
   "name": "python",
   "nbconvert_exporter": "python",
   "pygments_lexer": "ipython3",
   "version": "3.6.4"
  }
 },
 "nbformat": 4,
 "nbformat_minor": 2
}
